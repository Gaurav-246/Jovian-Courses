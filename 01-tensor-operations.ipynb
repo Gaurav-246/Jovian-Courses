{
 "cells": [
  {
   "cell_type": "markdown",
   "metadata": {
    "id": "En040iAoeOxH"
   },
   "source": [
    "# PyTorch tensor functions\n",
    "\n",
    "An short introduction about PyTorch and about the chosen functions. \n",
    "\n",
    "- torch.linspace()\n",
    "- torch.trunc()\n",
    "- torch.argmax()\n",
    "- torch.trace()\n",
    "- torch.abs()\n",
    "\n",
    "Before we begin, let's install and import PyTorch"
   ]
  },
  {
   "cell_type": "code",
   "execution_count": 3,
   "metadata": {
    "colab": {
     "base_uri": "https://localhost:8080/"
    },
    "executionInfo": {
     "elapsed": 58949,
     "status": "ok",
     "timestamp": 1654610678312,
     "user": {
      "displayName": "Gaurav A",
      "userId": "01746200873044670763"
     },
     "user_tz": -330
    },
    "id": "2T5mfMzPeOxI",
    "outputId": "d9df1121-96dd-4ab6-d29b-7e2cb4a411f9"
   },
   "outputs": [
    {
     "name": "stdout",
     "output_type": "stream",
     "text": [
      "Looking in indexes: https://pypi.org/simple, https://us-python.pkg.dev/colab-wheels/public/simple/\n",
      "Looking in links: https://download.pytorch.org/whl/torch_stable.html\n",
      "Requirement already satisfied: numpy in /usr/local/lib/python3.7/dist-packages (1.21.6)\n",
      "Collecting torch==1.7.0+cpu\n",
      "  Downloading https://download.pytorch.org/whl/cpu/torch-1.7.0%2Bcpu-cp37-cp37m-linux_x86_64.whl (159.3 MB)\n",
      "\u001b[K     |████████████████████████████████| 159.3 MB 3.5 kB/s \n",
      "\u001b[?25hCollecting torchvision==0.8.1+cpu\n",
      "  Downloading https://download.pytorch.org/whl/cpu/torchvision-0.8.1%2Bcpu-cp37-cp37m-linux_x86_64.whl (11.8 MB)\n",
      "\u001b[K     |████████████████████████████████| 11.8 MB 54.5 MB/s \n",
      "\u001b[?25hCollecting torchaudio==0.7.0\n",
      "  Downloading torchaudio-0.7.0-cp37-cp37m-manylinux1_x86_64.whl (7.6 MB)\n",
      "\u001b[K     |████████████████████████████████| 7.6 MB 8.4 MB/s \n",
      "\u001b[?25hRequirement already satisfied: typing-extensions in /usr/local/lib/python3.7/dist-packages (from torch==1.7.0+cpu) (4.2.0)\n",
      "Collecting dataclasses\n",
      "  Downloading dataclasses-0.6-py3-none-any.whl (14 kB)\n",
      "Requirement already satisfied: future in /usr/local/lib/python3.7/dist-packages (from torch==1.7.0+cpu) (0.16.0)\n",
      "Requirement already satisfied: pillow>=4.1.1 in /usr/local/lib/python3.7/dist-packages (from torchvision==0.8.1+cpu) (7.1.2)\n",
      "Installing collected packages: dataclasses, torch, torchvision, torchaudio\n",
      "  Attempting uninstall: torch\n",
      "    Found existing installation: torch 1.11.0+cu113\n",
      "    Uninstalling torch-1.11.0+cu113:\n",
      "      Successfully uninstalled torch-1.11.0+cu113\n",
      "  Attempting uninstall: torchvision\n",
      "    Found existing installation: torchvision 0.12.0+cu113\n",
      "    Uninstalling torchvision-0.12.0+cu113:\n",
      "      Successfully uninstalled torchvision-0.12.0+cu113\n",
      "  Attempting uninstall: torchaudio\n",
      "    Found existing installation: torchaudio 0.11.0+cu113\n",
      "    Uninstalling torchaudio-0.11.0+cu113:\n",
      "      Successfully uninstalled torchaudio-0.11.0+cu113\n",
      "\u001b[31mERROR: pip's dependency resolver does not currently take into account all the packages that are installed. This behaviour is the source of the following dependency conflicts.\n",
      "torchtext 0.12.0 requires torch==1.11.0, but you have torch 1.7.0+cpu which is incompatible.\u001b[0m\n",
      "Successfully installed dataclasses-0.6 torch-1.7.0+cpu torchaudio-0.7.0 torchvision-0.8.1+cpu\n"
     ]
    }
   ],
   "source": [
    "# Uncomment and run the appropriate command for your operating system, if required\n",
    "\n",
    "# Linux / Binder\n",
    "# !pip install numpy torch==1.7.0+cpu torchvision==0.8.1+cpu torchaudio==0.7.0 -f https://download.pytorch.org/whl/torch_stable.html\n",
    "\n",
    "# Windows\n",
    "!pip install numpy torch==1.7.0+cpu torchvision==0.8.1+cpu torchaudio==0.7.0 -f https://download.pytorch.org/whl/torch_stable.html\n",
    "\n",
    "# MacOS\n",
    "# !pip install numpy torch torchvision torchaudio"
   ]
  },
  {
   "cell_type": "code",
   "execution_count": 4,
   "metadata": {
    "executionInfo": {
     "elapsed": 1041,
     "status": "ok",
     "timestamp": 1654610691595,
     "user": {
      "displayName": "Gaurav A",
      "userId": "01746200873044670763"
     },
     "user_tz": -330
    },
    "id": "v2XeO2R0eOxJ"
   },
   "outputs": [],
   "source": [
    "# Import torch and other required modules\n",
    "import torch"
   ]
  },
  {
   "cell_type": "markdown",
   "metadata": {
    "id": "-oZzDv88eOxJ"
   },
   "source": [
    "## Function 1 - torch.linspace \n",
    "Creates a one-dimensional tensor of size `steps` whose values are evenly spaced from `start` to `end`, inclusive. "
   ]
  },
  {
   "cell_type": "code",
   "execution_count": 5,
   "metadata": {
    "colab": {
     "base_uri": "https://localhost:8080/"
    },
    "executionInfo": {
     "elapsed": 433,
     "status": "ok",
     "timestamp": 1654610921987,
     "user": {
      "displayName": "Gaurav A",
      "userId": "01746200873044670763"
     },
     "user_tz": -330
    },
    "id": "9kLNQIlVeOxK",
    "outputId": "a49aa0bf-e322-4b98-d10e-d93282bfafc8"
   },
   "outputs": [
    {
     "data": {
      "text/plain": [
       "tensor([-20., -12.,  -4.,   4.,  12.,  20.])"
      ]
     },
     "execution_count": 5,
     "metadata": {},
     "output_type": "execute_result"
    }
   ],
   "source": [
    "# Example 1 - working \n",
    "torch.linspace(start=-20, end=20, steps=6)"
   ]
  },
  {
   "cell_type": "markdown",
   "metadata": {
    "id": "QSOzT_eFeOxM"
   },
   "source": [
    "As we can see, it returns a tensor whose first element is -20, last element 20 and creates 4 other middle elements of equal spacing."
   ]
  },
  {
   "cell_type": "code",
   "execution_count": 7,
   "metadata": {
    "colab": {
     "base_uri": "https://localhost:8080/"
    },
    "executionInfo": {
     "elapsed": 398,
     "status": "ok",
     "timestamp": 1654611081612,
     "user": {
      "displayName": "Gaurav A",
      "userId": "01746200873044670763"
     },
     "user_tz": -330
    },
    "id": "sNaWdMdCeOxM",
    "outputId": "9f4af19e-9fc9-4aec-f35a-6e55c1ab1112"
   },
   "outputs": [
    {
     "data": {
      "text/plain": [
       "tensor([0.5000, 1.3333, 2.1667, 3.0000, 3.8333, 4.6667, 5.5000])"
      ]
     },
     "execution_count": 7,
     "metadata": {},
     "output_type": "execute_result"
    }
   ],
   "source": [
    "# Example 2 - working\n",
    "torch.linspace(start=0.5, end=5.5, steps=7)"
   ]
  },
  {
   "cell_type": "markdown",
   "metadata": {
    "id": "VwMNgwJleOxN"
   },
   "source": [
    "Similarly, it returns a 7 element tensor equally spaced, starting with 0.5 and ending with 5.5. The elements can also be of `float` datatype"
   ]
  },
  {
   "cell_type": "code",
   "execution_count": 8,
   "metadata": {
    "colab": {
     "base_uri": "https://localhost:8080/",
     "height": 182
    },
    "executionInfo": {
     "elapsed": 425,
     "status": "error",
     "timestamp": 1654611211730,
     "user": {
      "displayName": "Gaurav A",
      "userId": "01746200873044670763"
     },
     "user_tz": -330
    },
    "id": "QFPpZge4eOxO",
    "outputId": "592ab7b8-cd1e-440f-a625-78061f1090d1"
   },
   "outputs": [
    {
     "ename": "TypeError",
     "evalue": "ignored",
     "output_type": "error",
     "traceback": [
      "\u001b[0;31m---------------------------------------------------------------------------\u001b[0m",
      "\u001b[0;31mTypeError\u001b[0m                                 Traceback (most recent call last)",
      "\u001b[0;32m<ipython-input-8-eaa26fce3c44>\u001b[0m in \u001b[0;36m<module>\u001b[0;34m()\u001b[0m\n\u001b[1;32m      1\u001b[0m \u001b[0;31m# Example 3 - breaking (to illustrate when it breaks)\u001b[0m\u001b[0;34m\u001b[0m\u001b[0;34m\u001b[0m\u001b[0;34m\u001b[0m\u001b[0m\n\u001b[0;32m----> 2\u001b[0;31m \u001b[0mtorch\u001b[0m\u001b[0;34m.\u001b[0m\u001b[0mlinspace\u001b[0m\u001b[0;34m(\u001b[0m\u001b[0mstart\u001b[0m\u001b[0;34m=\u001b[0m\u001b[0;36m5\u001b[0m\u001b[0;34m,\u001b[0m \u001b[0mend\u001b[0m \u001b[0;34m=\u001b[0m\u001b[0;36m18\u001b[0m\u001b[0;34m,\u001b[0m \u001b[0msteps\u001b[0m\u001b[0;34m=\u001b[0m\u001b[0;36m0.2\u001b[0m\u001b[0;34m)\u001b[0m\u001b[0;34m\u001b[0m\u001b[0;34m\u001b[0m\u001b[0m\n\u001b[0m",
      "\u001b[0;31mTypeError\u001b[0m: linspace(): argument 'steps' must be int, not float"
     ]
    }
   ],
   "source": [
    "# Example 3 - breaking (to illustrate when it breaks)\n",
    "torch.linspace(start=5, end =18, steps=0.2)"
   ]
  },
  {
   "cell_type": "markdown",
   "metadata": {
    "id": "IB376-fceOxO"
   },
   "source": [
    "As we can see, this doesn't execute because the argument `steps` should of type `int` (an integer). Because it essentialy also represents number of elements in the tensor."
   ]
  },
  {
   "cell_type": "markdown",
   "metadata": {
    "id": "o6u-wr7YeOxO"
   },
   "source": [
    "In order to generate an equally spaced tensor with our required starting and ending elements, we can use the `torch.linspace()` function.\n"
   ]
  },
  {
   "cell_type": "markdown",
   "metadata": {
    "id": "kGQvKCSCeOxP"
   },
   "source": [
    "Let's save our work using Jovian before continuing."
   ]
  },
  {
   "cell_type": "code",
   "execution_count": 9,
   "metadata": {
    "executionInfo": {
     "elapsed": 3879,
     "status": "ok",
     "timestamp": 1654611352593,
     "user": {
      "displayName": "Gaurav A",
      "userId": "01746200873044670763"
     },
     "user_tz": -330
    },
    "id": "gXYZ-6WteOxP"
   },
   "outputs": [],
   "source": [
    "!pip install jovian --upgrade --quiet"
   ]
  },
  {
   "cell_type": "code",
   "execution_count": 10,
   "metadata": {
    "executionInfo": {
     "elapsed": 423,
     "status": "ok",
     "timestamp": 1654611353009,
     "user": {
      "displayName": "Gaurav A",
      "userId": "01746200873044670763"
     },
     "user_tz": -330
    },
    "id": "XBp4CLlGeOxP"
   },
   "outputs": [],
   "source": [
    "import jovian"
   ]
  },
  {
   "cell_type": "code",
   "execution_count": 11,
   "metadata": {
    "colab": {
     "base_uri": "https://localhost:8080/",
     "height": 122
    },
    "executionInfo": {
     "elapsed": 59217,
     "status": "ok",
     "timestamp": 1654611412212,
     "user": {
      "displayName": "Gaurav A",
      "userId": "01746200873044670763"
     },
     "user_tz": -330
    },
    "id": "ktubkV2JeOxQ",
    "outputId": "d43aec43-88ab-48b5-a142-931d0beab848"
   },
   "outputs": [
    {
     "name": "stdout",
     "output_type": "stream",
     "text": [
      "[jovian] Detected Colab notebook...\u001b[0m\n",
      "[jovian] Please enter your API key ( from https://jovian.ai/ ):\u001b[0m\n",
      "API KEY: ··········\n",
      "[jovian] Uploading colab notebook to Jovian...\u001b[0m\n",
      "Committed successfully! https://jovian.ai/gauravnvn246/01-tensor-operations\n"
     ]
    },
    {
     "data": {
      "application/vnd.google.colaboratory.intrinsic+json": {
       "type": "string"
      },
      "text/plain": [
       "'https://jovian.ai/gauravnvn246/01-tensor-operations'"
      ]
     },
     "execution_count": 11,
     "metadata": {},
     "output_type": "execute_result"
    }
   ],
   "source": [
    "jovian.commit(project='01-tensor-operations')"
   ]
  },
  {
   "cell_type": "markdown",
   "metadata": {
    "id": "XNOzB2rCeOxQ"
   },
   "source": [
    "## Function 2 - torch.trunc()\n",
    "\n",
    "Returns a new tensor with the truncated integer values of the elements of `input`."
   ]
  },
  {
   "cell_type": "code",
   "execution_count": 13,
   "metadata": {
    "colab": {
     "base_uri": "https://localhost:8080/"
    },
    "executionInfo": {
     "elapsed": 779,
     "status": "ok",
     "timestamp": 1654611558888,
     "user": {
      "displayName": "Gaurav A",
      "userId": "01746200873044670763"
     },
     "user_tz": -330
    },
    "id": "km6rKmFOeOxQ",
    "outputId": "59b5a95b-b2b1-47e7-9f6c-04e2f20b1475"
   },
   "outputs": [
    {
     "data": {
      "text/plain": [
       "tensor([3., 4., 5.])"
      ]
     },
     "execution_count": 13,
     "metadata": {},
     "output_type": "execute_result"
    }
   ],
   "source": [
    "# Example 1 - working\n",
    "a = torch.tensor([3.45, 4.67, 5.2231])\n",
    "torch.trunc(a)"
   ]
  },
  {
   "cell_type": "markdown",
   "metadata": {
    "id": "KoPuQyg3eOxR"
   },
   "source": [
    "It takes a tensor as input, and returns the truncated integer value of the elements."
   ]
  },
  {
   "cell_type": "code",
   "execution_count": 14,
   "metadata": {
    "colab": {
     "base_uri": "https://localhost:8080/"
    },
    "executionInfo": {
     "elapsed": 579,
     "status": "ok",
     "timestamp": 1654611663344,
     "user": {
      "displayName": "Gaurav A",
      "userId": "01746200873044670763"
     },
     "user_tz": -330
    },
    "id": "1a2GiXKWeOxR",
    "outputId": "d1ea1926-dd78-4ffa-f659-d72d9efca60b"
   },
   "outputs": [
    {
     "data": {
      "text/plain": [
       "tensor([[ 1.,  3.,  5., 45.],\n",
       "        [23.,  6.,  9., 20.]])"
      ]
     },
     "execution_count": 14,
     "metadata": {},
     "output_type": "execute_result"
    }
   ],
   "source": [
    "# Example 2 - working\n",
    "b = torch.tensor([[1.2344, 3, 5.6739, 45.23],[23.56, 6.5, 9.99, 20.7]])\n",
    "torch.trunc(b)"
   ]
  },
  {
   "cell_type": "markdown",
   "metadata": {
    "id": "GhVc1i9EeOxR"
   },
   "source": [
    "As we can see, it works with any dimensional tensor. The above illustrated example is that of a 2-D tensor."
   ]
  },
  {
   "cell_type": "code",
   "execution_count": 15,
   "metadata": {
    "colab": {
     "base_uri": "https://localhost:8080/",
     "height": 200
    },
    "executionInfo": {
     "elapsed": 642,
     "status": "error",
     "timestamp": 1654611759231,
     "user": {
      "displayName": "Gaurav A",
      "userId": "01746200873044670763"
     },
     "user_tz": -330
    },
    "id": "z4ciNCjkeOxS",
    "outputId": "7e91c8f1-2784-4b20-bc5a-932c330ffa46"
   },
   "outputs": [
    {
     "ename": "TypeError",
     "evalue": "ignored",
     "output_type": "error",
     "traceback": [
      "\u001b[0;31m---------------------------------------------------------------------------\u001b[0m",
      "\u001b[0;31mTypeError\u001b[0m                                 Traceback (most recent call last)",
      "\u001b[0;32m<ipython-input-15-ce4c08f344bb>\u001b[0m in \u001b[0;36m<module>\u001b[0;34m()\u001b[0m\n\u001b[1;32m      1\u001b[0m \u001b[0;31m# Example 3 - breaking (to illustrate when it breaks)\u001b[0m\u001b[0;34m\u001b[0m\u001b[0;34m\u001b[0m\u001b[0;34m\u001b[0m\u001b[0m\n\u001b[1;32m      2\u001b[0m \u001b[0mc\u001b[0m \u001b[0;34m=\u001b[0m \u001b[0;34m[\u001b[0m\u001b[0;36m4.55\u001b[0m\u001b[0;34m,\u001b[0m \u001b[0;36m3.4\u001b[0m\u001b[0;34m,\u001b[0m \u001b[0;36m6.7\u001b[0m\u001b[0;34m,\u001b[0m \u001b[0;36m9.69\u001b[0m\u001b[0;34m]\u001b[0m\u001b[0;34m\u001b[0m\u001b[0;34m\u001b[0m\u001b[0m\n\u001b[0;32m----> 3\u001b[0;31m \u001b[0mtorch\u001b[0m\u001b[0;34m.\u001b[0m\u001b[0mtrunc\u001b[0m\u001b[0;34m(\u001b[0m\u001b[0mc\u001b[0m\u001b[0;34m)\u001b[0m\u001b[0;34m\u001b[0m\u001b[0;34m\u001b[0m\u001b[0m\n\u001b[0m",
      "\u001b[0;31mTypeError\u001b[0m: trunc(): argument 'input' (position 1) must be Tensor, not list"
     ]
    }
   ],
   "source": [
    "# Example 3 - breaking (to illustrate when it breaks)\n",
    "c = [4.55, 3.4, 6.7, 9.69]\n",
    "torch.trunc(c)"
   ]
  },
  {
   "cell_type": "markdown",
   "metadata": {
    "id": "scIfp3g1eOxS"
   },
   "source": [
    "The `input` to the function must be a tensor, and the above example illustrates the case if the `input` was a `list`."
   ]
  },
  {
   "cell_type": "markdown",
   "metadata": {
    "id": "3KNc7kIUeOxT"
   },
   "source": [
    "Closing comments about when to use this function"
   ]
  },
  {
   "cell_type": "code",
   "execution_count": 16,
   "metadata": {
    "colab": {
     "base_uri": "https://localhost:8080/",
     "height": 88
    },
    "executionInfo": {
     "elapsed": 2834,
     "status": "ok",
     "timestamp": 1654611805673,
     "user": {
      "displayName": "Gaurav A",
      "userId": "01746200873044670763"
     },
     "user_tz": -330
    },
    "id": "qCV5A3greOxT",
    "outputId": "e41f255d-7e61-4513-b6d9-a0693e8ac6bd"
   },
   "outputs": [
    {
     "name": "stdout",
     "output_type": "stream",
     "text": [
      "[jovian] Detected Colab notebook...\u001b[0m\n",
      "[jovian] Uploading colab notebook to Jovian...\u001b[0m\n",
      "Committed successfully! https://jovian.ai/gauravnvn246/01-tensor-operations\n"
     ]
    },
    {
     "data": {
      "application/vnd.google.colaboratory.intrinsic+json": {
       "type": "string"
      },
      "text/plain": [
       "'https://jovian.ai/gauravnvn246/01-tensor-operations'"
      ]
     },
     "execution_count": 16,
     "metadata": {},
     "output_type": "execute_result"
    }
   ],
   "source": [
    "jovian.commit(project='01-tensor-operations')"
   ]
  },
  {
   "cell_type": "markdown",
   "metadata": {
    "id": "2uDE7Vc8eOxT"
   },
   "source": [
    "## Function 3 - torch.argmax()\n",
    "\n",
    "Returns the indices of the maximum value of all elements in the input tensor. If no additional argument is provided, it flattens the tensor and returns the modified index."
   ]
  },
  {
   "cell_type": "code",
   "execution_count": 20,
   "metadata": {
    "colab": {
     "base_uri": "https://localhost:8080/"
    },
    "executionInfo": {
     "elapsed": 417,
     "status": "ok",
     "timestamp": 1654612210486,
     "user": {
      "displayName": "Gaurav A",
      "userId": "01746200873044670763"
     },
     "user_tz": -330
    },
    "id": "yjm_LJGmj5Yu",
    "outputId": "ad57fee2-5829-42ca-ba23-df5a9da56457"
   },
   "outputs": [
    {
     "data": {
      "text/plain": [
       "tensor([[ 0.9195, -2.1946, -0.5625,  0.4970],\n",
       "        [-1.1895,  0.2638,  1.4726, -2.1137],\n",
       "        [ 0.0296,  0.0371, -1.5109, -0.4249]])"
      ]
     },
     "execution_count": 20,
     "metadata": {},
     "output_type": "execute_result"
    }
   ],
   "source": [
    "a = torch.randn(3,4)\n",
    "a"
   ]
  },
  {
   "cell_type": "code",
   "execution_count": 21,
   "metadata": {
    "colab": {
     "base_uri": "https://localhost:8080/"
    },
    "executionInfo": {
     "elapsed": 449,
     "status": "ok",
     "timestamp": 1654612215250,
     "user": {
      "displayName": "Gaurav A",
      "userId": "01746200873044670763"
     },
     "user_tz": -330
    },
    "id": "pSOAmPF8eOxT",
    "outputId": "1a6bf55d-e6e2-43ed-9893-b1150f0520f3"
   },
   "outputs": [
    {
     "data": {
      "text/plain": [
       "tensor(6)"
      ]
     },
     "execution_count": 21,
     "metadata": {},
     "output_type": "execute_result"
    }
   ],
   "source": [
    "# Example 1 - working\n",
    "torch.argmax(a)"
   ]
  },
  {
   "cell_type": "markdown",
   "metadata": {
    "id": "Yj2gt0useOxU"
   },
   "source": [
    "As we can see, the flattened tensor has the maximum value ***1.4726***, which is at index ***6***"
   ]
  },
  {
   "cell_type": "code",
   "execution_count": 22,
   "metadata": {
    "colab": {
     "base_uri": "https://localhost:8080/"
    },
    "executionInfo": {
     "elapsed": 7,
     "status": "ok",
     "timestamp": 1654612288464,
     "user": {
      "displayName": "Gaurav A",
      "userId": "01746200873044670763"
     },
     "user_tz": -330
    },
    "id": "uyJmgwyweOxU",
    "outputId": "907da705-f447-4511-8984-67cad35fda04"
   },
   "outputs": [
    {
     "data": {
      "text/plain": [
       "tensor([[-2.0683,  0.5573,  2.3338, -1.5805],\n",
       "        [-1.5211, -0.8713,  0.0827,  1.6446],\n",
       "        [-0.2671, -1.2200, -1.1157,  0.7024],\n",
       "        [ 1.7047, -0.6619, -2.5225,  1.0555]])"
      ]
     },
     "execution_count": 22,
     "metadata": {},
     "output_type": "execute_result"
    }
   ],
   "source": [
    "# Example 2 - working\n",
    "b = torch.randn(4,4)\n",
    "b"
   ]
  },
  {
   "cell_type": "code",
   "execution_count": 23,
   "metadata": {
    "colab": {
     "base_uri": "https://localhost:8080/"
    },
    "executionInfo": {
     "elapsed": 403,
     "status": "ok",
     "timestamp": 1654612298748,
     "user": {
      "displayName": "Gaurav A",
      "userId": "01746200873044670763"
     },
     "user_tz": -330
    },
    "id": "Ip5-vZcok5kL",
    "outputId": "f32f73e8-75f8-438b-803a-bf412fa6cad4"
   },
   "outputs": [
    {
     "data": {
      "text/plain": [
       "tensor([2, 3, 3, 0])"
      ]
     },
     "execution_count": 23,
     "metadata": {},
     "output_type": "execute_result"
    }
   ],
   "source": [
    "torch.argmax(b, dim=1)"
   ]
  },
  {
   "cell_type": "markdown",
   "metadata": {
    "id": "cZP1Gv5yeOxU"
   },
   "source": [
    "The additional argument `dim` represents the dimension to reduce. If `None`, the argmax of the flattened input is returned. Here we can see that the indices of max value of each row is returned."
   ]
  },
  {
   "cell_type": "code",
   "execution_count": 28,
   "metadata": {
    "colab": {
     "base_uri": "https://localhost:8080/"
    },
    "executionInfo": {
     "elapsed": 5,
     "status": "ok",
     "timestamp": 1654612549902,
     "user": {
      "displayName": "Gaurav A",
      "userId": "01746200873044670763"
     },
     "user_tz": -330
    },
    "id": "23L1bQkteOxU",
    "outputId": "df64199d-cd21-41a0-e282-0d518b9de666"
   },
   "outputs": [
    {
     "data": {
      "text/plain": [
       "tensor([[ 0.3131,  1.0184, -0.0304, -0.2802, -0.2165, -0.9145,  0.6743],\n",
       "        [ 0.4258,  0.6066,  2.0542, -2.0787,  0.2632, -0.4640,  1.0470],\n",
       "        [ 1.3528,  0.3310, -0.0935, -1.1869,  1.9567,  0.4679,  0.0812],\n",
       "        [-0.7887, -0.0187,  0.5269, -0.3270,  0.3688, -0.1145, -0.1475],\n",
       "        [-1.5094, -0.2538, -1.1895, -0.0265, -0.2578,  1.0148,  0.2467],\n",
       "        [ 0.1587, -0.0100, -1.0246,  0.7043, -1.1583,  0.6707, -0.8152]])"
      ]
     },
     "execution_count": 28,
     "metadata": {},
     "output_type": "execute_result"
    }
   ],
   "source": [
    "# Example 3 - breaking (to illustrate when it breaks)\n",
    "c = torch.randn(6,7)\n",
    "c"
   ]
  },
  {
   "cell_type": "code",
   "execution_count": 29,
   "metadata": {
    "colab": {
     "base_uri": "https://localhost:8080/",
     "height": 165
    },
    "executionInfo": {
     "elapsed": 648,
     "status": "error",
     "timestamp": 1654612552312,
     "user": {
      "displayName": "Gaurav A",
      "userId": "01746200873044670763"
     },
     "user_tz": -330
    },
    "id": "ZsBeHY1olj4f",
    "outputId": "908fb7eb-d451-4644-9738-d0be0b2c4b60"
   },
   "outputs": [
    {
     "ename": "IndexError",
     "evalue": "ignored",
     "output_type": "error",
     "traceback": [
      "\u001b[0;31m---------------------------------------------------------------------------\u001b[0m",
      "\u001b[0;31mIndexError\u001b[0m                                Traceback (most recent call last)",
      "\u001b[0;32m<ipython-input-29-ec7fcf4fc2bc>\u001b[0m in \u001b[0;36m<module>\u001b[0;34m()\u001b[0m\n\u001b[0;32m----> 1\u001b[0;31m \u001b[0mtorch\u001b[0m\u001b[0;34m.\u001b[0m\u001b[0margmax\u001b[0m\u001b[0;34m(\u001b[0m\u001b[0mc\u001b[0m\u001b[0;34m,\u001b[0m \u001b[0mdim\u001b[0m\u001b[0;34m=\u001b[0m\u001b[0;36m16\u001b[0m\u001b[0;34m)\u001b[0m\u001b[0;34m\u001b[0m\u001b[0;34m\u001b[0m\u001b[0m\n\u001b[0m",
      "\u001b[0;31mIndexError\u001b[0m: Dimension out of range (expected to be in range of [-2, 1], but got 16)"
     ]
    }
   ],
   "source": [
    "torch.argmax(c, dim=16)"
   ]
  },
  {
   "cell_type": "markdown",
   "metadata": {
    "id": "DoB1IB_SeOxU"
   },
   "source": [
    "The argument `dim` has to be within range [-2,1] and cannot exceed it. This is because it doesn't make sense to reduce it to a dimension out of this range"
   ]
  },
  {
   "cell_type": "markdown",
   "metadata": {
    "id": "rBB1dEXneOxU"
   },
   "source": [
    "This function can be used in Deep Learning models in the final layer of the fully connected layers to return the predicted output, since that would have the highest probability."
   ]
  },
  {
   "cell_type": "code",
   "execution_count": 30,
   "metadata": {
    "colab": {
     "base_uri": "https://localhost:8080/",
     "height": 88
    },
    "executionInfo": {
     "elapsed": 2720,
     "status": "ok",
     "timestamp": 1654612619003,
     "user": {
      "displayName": "Gaurav A",
      "userId": "01746200873044670763"
     },
     "user_tz": -330
    },
    "id": "WKeb5st2eOxU",
    "outputId": "f387edea-3a88-4b59-fbfe-e97b6f512e32"
   },
   "outputs": [
    {
     "name": "stdout",
     "output_type": "stream",
     "text": [
      "[jovian] Detected Colab notebook...\u001b[0m\n",
      "[jovian] Uploading colab notebook to Jovian...\u001b[0m\n",
      "Committed successfully! https://jovian.ai/gauravnvn246/01-tensor-operations\n"
     ]
    },
    {
     "data": {
      "application/vnd.google.colaboratory.intrinsic+json": {
       "type": "string"
      },
      "text/plain": [
       "'https://jovian.ai/gauravnvn246/01-tensor-operations'"
      ]
     },
     "execution_count": 30,
     "metadata": {},
     "output_type": "execute_result"
    }
   ],
   "source": [
    "jovian.commit(project='01-tensor-operations')"
   ]
  },
  {
   "cell_type": "markdown",
   "metadata": {
    "id": "ZUPLL4FfeOxV"
   },
   "source": [
    "## Function 4 - torch.trace()\n",
    "Returns the sum of the elements of the diagonal of the input 2-D matrix.\n",
    "\n"
   ]
  },
  {
   "cell_type": "code",
   "execution_count": 32,
   "metadata": {
    "colab": {
     "base_uri": "https://localhost:8080/"
    },
    "executionInfo": {
     "elapsed": 5,
     "status": "ok",
     "timestamp": 1654612826012,
     "user": {
      "displayName": "Gaurav A",
      "userId": "01746200873044670763"
     },
     "user_tz": -330
    },
    "id": "LHHTlr2HeOxV",
    "outputId": "ae59bdd9-b7b6-426f-c1b6-b111ed312688"
   },
   "outputs": [
    {
     "data": {
      "text/plain": [
       "tensor([[12, 13, 14],\n",
       "        [15, 16, 17],\n",
       "        [18, 19, 20]])"
      ]
     },
     "execution_count": 32,
     "metadata": {},
     "output_type": "execute_result"
    }
   ],
   "source": [
    "# Example 1 - working\n",
    "a = torch.arange(12,21).view(3,3)\n",
    "a"
   ]
  },
  {
   "cell_type": "code",
   "execution_count": 33,
   "metadata": {
    "colab": {
     "base_uri": "https://localhost:8080/"
    },
    "executionInfo": {
     "elapsed": 410,
     "status": "ok",
     "timestamp": 1654612836154,
     "user": {
      "displayName": "Gaurav A",
      "userId": "01746200873044670763"
     },
     "user_tz": -330
    },
    "id": "OGnr54XOnCYW",
    "outputId": "2275859e-03cc-4ec6-dccd-2682741ad54b"
   },
   "outputs": [
    {
     "data": {
      "text/plain": [
       "tensor(48)"
      ]
     },
     "execution_count": 33,
     "metadata": {},
     "output_type": "execute_result"
    }
   ],
   "source": [
    "torch.trace(a)"
   ]
  },
  {
   "cell_type": "markdown",
   "metadata": {
    "id": "ICOChK_deOxV"
   },
   "source": [
    "Returns the trace of the 2-D matrix, i.e sum of diagonal elements of the matrix."
   ]
  },
  {
   "cell_type": "code",
   "execution_count": 34,
   "metadata": {
    "colab": {
     "base_uri": "https://localhost:8080/"
    },
    "executionInfo": {
     "elapsed": 7,
     "status": "ok",
     "timestamp": 1654612894289,
     "user": {
      "displayName": "Gaurav A",
      "userId": "01746200873044670763"
     },
     "user_tz": -330
    },
    "id": "m6N1-TAEeOxV",
    "outputId": "b3cf1371-5468-4909-e901-7975cee8478d"
   },
   "outputs": [
    {
     "data": {
      "text/plain": [
       "tensor([[1., 1., 1., 1., 1.],\n",
       "        [1., 1., 1., 1., 1.],\n",
       "        [1., 1., 1., 1., 1.],\n",
       "        [1., 1., 1., 1., 1.]])"
      ]
     },
     "execution_count": 34,
     "metadata": {},
     "output_type": "execute_result"
    }
   ],
   "source": [
    "# Example 2 - working\n",
    "b = torch.ones(4,5)\n",
    "b"
   ]
  },
  {
   "cell_type": "code",
   "execution_count": 35,
   "metadata": {
    "colab": {
     "base_uri": "https://localhost:8080/"
    },
    "executionInfo": {
     "elapsed": 549,
     "status": "ok",
     "timestamp": 1654612905791,
     "user": {
      "displayName": "Gaurav A",
      "userId": "01746200873044670763"
     },
     "user_tz": -330
    },
    "id": "LUjHNhcKnTOC",
    "outputId": "646bc418-9acd-4b00-e053-49ea05775ea2"
   },
   "outputs": [
    {
     "data": {
      "text/plain": [
       "tensor(4.)"
      ]
     },
     "execution_count": 35,
     "metadata": {},
     "output_type": "execute_result"
    }
   ],
   "source": [
    "torch.trace(b)"
   ]
  },
  {
   "cell_type": "markdown",
   "metadata": {
    "id": "R0Ej_m3feOxV"
   },
   "source": [
    "It need not be a square matrix, but it has to be a 2-D matrix."
   ]
  },
  {
   "cell_type": "code",
   "execution_count": 36,
   "metadata": {
    "colab": {
     "base_uri": "https://localhost:8080/"
    },
    "executionInfo": {
     "elapsed": 402,
     "status": "ok",
     "timestamp": 1654612956318,
     "user": {
      "displayName": "Gaurav A",
      "userId": "01746200873044670763"
     },
     "user_tz": -330
    },
    "id": "YrdvNBg0eOxW",
    "outputId": "c711263b-3a87-4993-97f8-24642407ef63"
   },
   "outputs": [
    {
     "data": {
      "text/plain": [
       "tensor([[[-0.2878, -0.9097,  0.3620, -0.2601,  0.5944],\n",
       "         [-0.8498, -0.8754,  1.1506, -1.7598,  0.8556],\n",
       "         [ 0.4250, -0.4767,  0.7335, -0.1357,  0.0765],\n",
       "         [ 0.7472, -1.1382,  0.9754, -0.1346, -0.4950]],\n",
       "\n",
       "        [[ 1.0426,  0.7023, -0.4634, -0.9011,  2.5019],\n",
       "         [-0.5604,  0.4726, -0.4751,  0.9597, -0.3263],\n",
       "         [ 0.1839, -2.1962,  0.1732,  1.5222,  0.4425],\n",
       "         [-1.2589, -0.9544,  1.4109, -0.3782, -0.1629]],\n",
       "\n",
       "        [[ 0.0046, -2.1200,  1.3046, -0.0171, -0.0109],\n",
       "         [ 1.1178,  0.6551, -0.9698, -1.1991,  0.4692],\n",
       "         [ 0.1873,  1.0312, -0.0096,  0.4838, -1.0428],\n",
       "         [-1.1848, -0.6585, -0.3818, -0.5279,  1.0622]]])"
      ]
     },
     "execution_count": 36,
     "metadata": {},
     "output_type": "execute_result"
    }
   ],
   "source": [
    "# Example 3 - breaking (to illustrate when it breaks)\n",
    "c = torch.randn(3,4,5)\n",
    "c"
   ]
  },
  {
   "cell_type": "code",
   "execution_count": 37,
   "metadata": {
    "colab": {
     "base_uri": "https://localhost:8080/",
     "height": 165
    },
    "executionInfo": {
     "elapsed": 416,
     "status": "error",
     "timestamp": 1654612965595,
     "user": {
      "displayName": "Gaurav A",
      "userId": "01746200873044670763"
     },
     "user_tz": -330
    },
    "id": "f4X4Bh-zniFi",
    "outputId": "17712006-614d-42d7-88d5-9530fe02059e"
   },
   "outputs": [
    {
     "ename": "RuntimeError",
     "evalue": "ignored",
     "output_type": "error",
     "traceback": [
      "\u001b[0;31m---------------------------------------------------------------------------\u001b[0m",
      "\u001b[0;31mRuntimeError\u001b[0m                              Traceback (most recent call last)",
      "\u001b[0;32m<ipython-input-37-e31d8ef75b08>\u001b[0m in \u001b[0;36m<module>\u001b[0;34m()\u001b[0m\n\u001b[0;32m----> 1\u001b[0;31m \u001b[0mtorch\u001b[0m\u001b[0;34m.\u001b[0m\u001b[0mtrace\u001b[0m\u001b[0;34m(\u001b[0m\u001b[0mc\u001b[0m\u001b[0;34m)\u001b[0m\u001b[0;34m\u001b[0m\u001b[0;34m\u001b[0m\u001b[0m\n\u001b[0m",
      "\u001b[0;31mRuntimeError\u001b[0m: invalid argument 1: expected a matrix at /pytorch/aten/src/TH/generic/THTensorMoreMath.cpp:262"
     ]
    }
   ],
   "source": [
    "torch.trace(c)"
   ]
  },
  {
   "cell_type": "markdown",
   "metadata": {
    "id": "0VeRAPxieOxW"
   },
   "source": [
    "As said before, this matrix is 3-D. Therefore it doesn't make sense for trace of a 3-D matrix. Hence the function `torch.trace` doesn't work."
   ]
  },
  {
   "cell_type": "markdown",
   "metadata": {
    "id": "SDN4ZAhqeOxW"
   },
   "source": [
    "In questions involving linear algebra, this function would be useful."
   ]
  },
  {
   "cell_type": "code",
   "execution_count": 38,
   "metadata": {
    "colab": {
     "base_uri": "https://localhost:8080/",
     "height": 88
    },
    "executionInfo": {
     "elapsed": 3393,
     "status": "ok",
     "timestamp": 1654613043913,
     "user": {
      "displayName": "Gaurav A",
      "userId": "01746200873044670763"
     },
     "user_tz": -330
    },
    "id": "Z0f43uh1eOxW",
    "outputId": "bc1ebf17-6ea3-4ef7-b6b0-e006a2d19851"
   },
   "outputs": [
    {
     "name": "stdout",
     "output_type": "stream",
     "text": [
      "[jovian] Detected Colab notebook...\u001b[0m\n",
      "[jovian] Uploading colab notebook to Jovian...\u001b[0m\n",
      "Committed successfully! https://jovian.ai/gauravnvn246/01-tensor-operations\n"
     ]
    },
    {
     "data": {
      "application/vnd.google.colaboratory.intrinsic+json": {
       "type": "string"
      },
      "text/plain": [
       "'https://jovian.ai/gauravnvn246/01-tensor-operations'"
      ]
     },
     "execution_count": 38,
     "metadata": {},
     "output_type": "execute_result"
    }
   ],
   "source": [
    "jovian.commit(project='01-tensor-operations')"
   ]
  },
  {
   "cell_type": "markdown",
   "metadata": {
    "id": "UXnbZjyyeOxW"
   },
   "source": [
    "## Function 5 - torch.abs()\n",
    "\n",
    "Computes the absolute value of each element in `input`.\n",
    "\n"
   ]
  },
  {
   "cell_type": "code",
   "execution_count": 55,
   "metadata": {
    "colab": {
     "base_uri": "https://localhost:8080/"
    },
    "executionInfo": {
     "elapsed": 1434,
     "status": "ok",
     "timestamp": 1654614196599,
     "user": {
      "displayName": "Gaurav A",
      "userId": "01746200873044670763"
     },
     "user_tz": -330
    },
    "id": "GGYJ8VjaeOxW",
    "outputId": "242d5f8e-ad4c-4f2a-a665-81f8864bd893"
   },
   "outputs": [
    {
     "data": {
      "text/plain": [
       "tensor([[-3, -2, -1,  0],\n",
       "        [ 1,  2,  3,  4],\n",
       "        [ 5,  6,  7,  8]])"
      ]
     },
     "execution_count": 55,
     "metadata": {},
     "output_type": "execute_result"
    }
   ],
   "source": [
    "# Example 1 - working\n",
    "a = torch.arange(-3,9).view(3,4)\n",
    "a"
   ]
  },
  {
   "cell_type": "code",
   "execution_count": 56,
   "metadata": {
    "colab": {
     "base_uri": "https://localhost:8080/"
    },
    "executionInfo": {
     "elapsed": 6,
     "status": "ok",
     "timestamp": 1654614196600,
     "user": {
      "displayName": "Gaurav A",
      "userId": "01746200873044670763"
     },
     "user_tz": -330
    },
    "id": "6qi8L5Yvo0_V",
    "outputId": "b20d1857-c760-4d3b-b245-f621a94cd94d"
   },
   "outputs": [
    {
     "data": {
      "text/plain": [
       "tensor([[3, 2, 1, 0],\n",
       "        [1, 2, 3, 4],\n",
       "        [5, 6, 7, 8]])"
      ]
     },
     "execution_count": 56,
     "metadata": {},
     "output_type": "execute_result"
    }
   ],
   "source": [
    "torch.abs(a)"
   ]
  },
  {
   "cell_type": "markdown",
   "metadata": {
    "id": "xioSo98oeOxX"
   },
   "source": [
    "As we can see, it returns the absolute value of all the elements in the tensor."
   ]
  },
  {
   "cell_type": "code",
   "execution_count": 57,
   "metadata": {
    "colab": {
     "base_uri": "https://localhost:8080/"
    },
    "executionInfo": {
     "elapsed": 344,
     "status": "ok",
     "timestamp": 1654614220781,
     "user": {
      "displayName": "Gaurav A",
      "userId": "01746200873044670763"
     },
     "user_tz": -330
    },
    "id": "2gIp7tbSeOxX",
    "outputId": "8f51bd35-5414-4824-ee0c-a31521a9b9dd"
   },
   "outputs": [
    {
     "data": {
      "text/plain": [
       "tensor([[ 3.6929, -0.3092],\n",
       "        [-0.2979,  0.5679],\n",
       "        [-1.0185, -0.7504]])"
      ]
     },
     "execution_count": 57,
     "metadata": {},
     "output_type": "execute_result"
    }
   ],
   "source": [
    "# Example 2 - working\n",
    "b = torch.randn(3,2)\n",
    "b"
   ]
  },
  {
   "cell_type": "code",
   "execution_count": 58,
   "metadata": {
    "colab": {
     "base_uri": "https://localhost:8080/"
    },
    "executionInfo": {
     "elapsed": 13,
     "status": "ok",
     "timestamp": 1654614230737,
     "user": {
      "displayName": "Gaurav A",
      "userId": "01746200873044670763"
     },
     "user_tz": -330
    },
    "id": "_JoVnd3EpN5c",
    "outputId": "490b9843-86eb-41a1-bfa3-9d805ff68e63"
   },
   "outputs": [
    {
     "data": {
      "text/plain": [
       "tensor([[3.6929, 0.3092],\n",
       "        [0.2979, 0.5679],\n",
       "        [1.0185, 0.7504]])"
      ]
     },
     "execution_count": 58,
     "metadata": {},
     "output_type": "execute_result"
    }
   ],
   "source": [
    "torch.abs(b)"
   ]
  },
  {
   "cell_type": "markdown",
   "metadata": {
    "id": "hr5n91A_eOxX"
   },
   "source": [
    "It also works in any dimension tensor, with any numeric datatype."
   ]
  },
  {
   "cell_type": "code",
   "execution_count": 59,
   "metadata": {
    "colab": {
     "base_uri": "https://localhost:8080/",
     "height": 182
    },
    "executionInfo": {
     "elapsed": 410,
     "status": "error",
     "timestamp": 1654614327582,
     "user": {
      "displayName": "Gaurav A",
      "userId": "01746200873044670763"
     },
     "user_tz": -330
    },
    "id": "sArh32JdeOxX",
    "outputId": "1a5c4fa2-c31b-479a-c8b1-ce57323e74c0"
   },
   "outputs": [
    {
     "ename": "ValueError",
     "evalue": "ignored",
     "output_type": "error",
     "traceback": [
      "\u001b[0;31m---------------------------------------------------------------------------\u001b[0m",
      "\u001b[0;31mValueError\u001b[0m                                Traceback (most recent call last)",
      "\u001b[0;32m<ipython-input-59-3870c8ec0dbc>\u001b[0m in \u001b[0;36m<module>\u001b[0;34m()\u001b[0m\n\u001b[1;32m      1\u001b[0m \u001b[0;31m# Example 3 - breaking (to illustrate when it breaks)\u001b[0m\u001b[0;34m\u001b[0m\u001b[0;34m\u001b[0m\u001b[0;34m\u001b[0m\u001b[0m\n\u001b[0;32m----> 2\u001b[0;31m \u001b[0mtorch\u001b[0m\u001b[0;34m.\u001b[0m\u001b[0mabs\u001b[0m\u001b[0;34m(\u001b[0m\u001b[0mtorch\u001b[0m\u001b[0;34m.\u001b[0m\u001b[0mtensor\u001b[0m\u001b[0;34m(\u001b[0m\u001b[0;34m[\u001b[0m\u001b[0;34m[\u001b[0m\u001b[0;36m1\u001b[0m\u001b[0;34m,\u001b[0m \u001b[0;34m-\u001b[0m\u001b[0;36m2\u001b[0m\u001b[0;34m]\u001b[0m\u001b[0;34m,\u001b[0m \u001b[0;34m[\u001b[0m\u001b[0;34m-\u001b[0m\u001b[0;36m3\u001b[0m\u001b[0;34m,\u001b[0m \u001b[0;36m4\u001b[0m\u001b[0;34m,\u001b[0m \u001b[0;34m-\u001b[0m\u001b[0;36m5\u001b[0m\u001b[0;34m]\u001b[0m\u001b[0;34m]\u001b[0m\u001b[0;34m)\u001b[0m\u001b[0;34m)\u001b[0m\u001b[0;34m\u001b[0m\u001b[0;34m\u001b[0m\u001b[0m\n\u001b[0m",
      "\u001b[0;31mValueError\u001b[0m: expected sequence of length 2 at dim 1 (got 3)"
     ]
    }
   ],
   "source": [
    "# Example 3 - breaking (to illustrate when it breaks)\n",
    "torch.abs(torch.tensor([[1, -2], [-3, 4, -5]]))"
   ]
  },
  {
   "cell_type": "markdown",
   "metadata": {
    "id": "QKhH5JCFeOxX"
   },
   "source": [
    "Function `torch.abs` is going to work fine always except a case when you do not pass the correct tensor."
   ]
  },
  {
   "cell_type": "markdown",
   "metadata": {
    "id": "UF-A2MpCeOxX"
   },
   "source": [
    "We can use this function when you need a tensor having all values positive but the tensor that you have may have some negative numbers."
   ]
  },
  {
   "cell_type": "code",
   "execution_count": 60,
   "metadata": {
    "colab": {
     "base_uri": "https://localhost:8080/",
     "height": 88
    },
    "executionInfo": {
     "elapsed": 4131,
     "status": "ok",
     "timestamp": 1654614416669,
     "user": {
      "displayName": "Gaurav A",
      "userId": "01746200873044670763"
     },
     "user_tz": -330
    },
    "id": "yEKpxXaxeOxX",
    "outputId": "a6f3c1b2-5fd2-4116-d69c-b0e4b892dd8c"
   },
   "outputs": [
    {
     "name": "stdout",
     "output_type": "stream",
     "text": [
      "[jovian] Detected Colab notebook...\u001b[0m\n",
      "[jovian] Uploading colab notebook to Jovian...\u001b[0m\n",
      "Committed successfully! https://jovian.ai/gauravnvn246/01-tensor-operations\n"
     ]
    },
    {
     "data": {
      "application/vnd.google.colaboratory.intrinsic+json": {
       "type": "string"
      },
      "text/plain": [
       "'https://jovian.ai/gauravnvn246/01-tensor-operations'"
      ]
     },
     "execution_count": 60,
     "metadata": {},
     "output_type": "execute_result"
    }
   ],
   "source": [
    "jovian.commit(project='01-tensor-operations')"
   ]
  },
  {
   "cell_type": "markdown",
   "metadata": {
    "id": "VtLWnhVVeOxY"
   },
   "source": [
    "## Conclusion\n",
    "\n",
    "We have explored the Pytorch documentation and have tried out different tensor operations."
   ]
  },
  {
   "cell_type": "markdown",
   "metadata": {
    "id": "314LFKC3eOxY"
   },
   "source": [
    "## Reference Links\n",
    "Provide links to your references and other interesting articles about tensors\n",
    "* Official documentation for tensor operations: https://pytorch.org/docs/stable/torch.html\n",
    "* ..."
   ]
  },
  {
   "cell_type": "code",
   "execution_count": null,
   "metadata": {
    "colab": {
     "base_uri": "https://localhost:8080/"
    },
    "id": "yJDbtc1EeOxY",
    "outputId": "47429e0e-7fc6-4646-ff91-94e7b910f9ae"
   },
   "outputs": [
    {
     "name": "stdout",
     "output_type": "stream",
     "text": [
      "[jovian] Detected Colab notebook...\u001b[0m\n",
      "[jovian] Uploading colab notebook to Jovian...\u001b[0m\n"
     ]
    }
   ],
   "source": [
    "jovian.commit(project='01-tensor-operations')"
   ]
  },
  {
   "cell_type": "code",
   "execution_count": null,
   "metadata": {
    "id": "jlclaKZUeOxY"
   },
   "outputs": [],
   "source": []
  }
 ],
 "metadata": {
  "colab": {
   "name": "01-tensor-operations.ipynb",
   "provenance": []
  },
  "kernelspec": {
   "display_name": "Python 3",
   "language": "python",
   "name": "python3"
  },
  "language_info": {
   "codemirror_mode": {
    "name": "ipython",
    "version": 3
   },
   "file_extension": ".py",
   "mimetype": "text/x-python",
   "name": "python",
   "nbconvert_exporter": "python",
   "pygments_lexer": "ipython3",
   "version": "3.8.5"
  }
 },
 "nbformat": 4,
 "nbformat_minor": 0
}